{
 "cells": [
  {
   "cell_type": "markdown",
   "id": "e031076c",
   "metadata": {},
   "source": [
    "## 1. What is the name of the feature responsible for generating Regex objects?\n",
    "### Ans:"
   ]
  },
  {
   "cell_type": "markdown",
   "id": "7b5f9450",
   "metadata": {},
   "source": [
    "re.compile() is the feature responsible for generation of Regex objects."
   ]
  },
  {
   "cell_type": "code",
   "execution_count": 1,
   "id": "89501e5b",
   "metadata": {},
   "outputs": [
    {
     "name": "stdout",
     "output_type": "stream",
     "text": [
      "<class 're.Pattern'>\n"
     ]
    }
   ],
   "source": [
    "import re\n",
    "\n",
    "# Target String \n",
    "str1 = \"Emma's luck numbers are 251 761 231 451\"\n",
    "\n",
    "# pattern to find three consecutive digits\n",
    "string_pattern = r\"\\d{3}\"\n",
    "\n",
    "# compile string pattern to re.Pattern object\n",
    "regex_pattern = re.compile(string_pattern)\n",
    "\n",
    "# print the type of compiled pattern\n",
    "print(type(regex_pattern))"
   ]
  },
  {
   "cell_type": "markdown",
   "id": "de863e14",
   "metadata": {},
   "source": [
    "## 2. Why do raw strings often appear in Regex objects?\n",
    "### Ans:"
   ]
  },
  {
   "cell_type": "markdown",
   "id": "5ebcd48c",
   "metadata": {},
   "source": [
    "Regular expressions use the backslash character (' \\ ') to indicate special forms (Metacharacters) or to allow special characters (speical sequences) to be used without invoking their special meaning. This collides with Python’s usage of the same character for the same purpose in string literals. Hence, Raw strings are used (e.g. r \"\\n\" ) so that backslashes do not have to be escaped."
   ]
  },
  {
   "cell_type": "markdown",
   "id": "7efb52c0",
   "metadata": {},
   "source": [
    "## 3. What is the return value of the search() method?\n",
    "### Ans:"
   ]
  },
  {
   "cell_type": "markdown",
   "id": "31113dfc",
   "metadata": {},
   "source": [
    "The return value of search( ) method is the matched object if the pattern is found in the string else it returns a None."
   ]
  },
  {
   "cell_type": "code",
   "execution_count": 3,
   "id": "480d0a1d",
   "metadata": {},
   "outputs": [
    {
     "name": "stdout",
     "output_type": "stream",
     "text": [
      "Output: <re.Match object; span=(0, 1), match='I'>\n",
      "Output: None\n"
     ]
    }
   ],
   "source": [
    "import re\n",
    "\n",
    "match = re.search('i','Ineuron Full Stack Data Science Program', flags=re.IGNORECASE)\n",
    "print('Output:',match)\n",
    "\n",
    "match = re.search('X','Ineuron Full Stack Data Science Program', flags=re.IGNORECASE)\n",
    "print('Output:',match)"
   ]
  },
  {
   "cell_type": "markdown",
   "id": "67316cf2",
   "metadata": {},
   "source": [
    "## 4. From a Match item, how do you get the actual strings that match the pattern?\n",
    "### Ans:"
   ]
  },
  {
   "cell_type": "markdown",
   "id": "6d77704d",
   "metadata": {},
   "source": [
    "For Matched items group() method returns actual strings that match the pattern."
   ]
  },
  {
   "cell_type": "code",
   "execution_count": 4,
   "id": "c129741c",
   "metadata": {},
   "outputs": [
    {
     "name": "stdout",
     "output_type": "stream",
     "text": [
      "Output: Ineuron\n"
     ]
    }
   ],
   "source": [
    "import re\n",
    "\n",
    "match = re.search('ineuron','Ineuron Full Stack Data Science Program', flags=re.IGNORECASE)\n",
    "print('Output:',match.group())"
   ]
  },
  {
   "cell_type": "markdown",
   "id": "a615efb3",
   "metadata": {},
   "source": [
    "## 5. In the regex which created from the r'(\\d\\d\\d)-(\\d\\d\\d-\\d\\d\\d\\d)', what does group zero cover? Group 2? Group 1?\n",
    "### Ans:"
   ]
  },
  {
   "cell_type": "markdown",
   "id": "7c959d75",
   "metadata": {},
   "source": [
    "In the Regex r'(\\d\\d\\d)-(\\d\\d\\d-\\d\\d\\d\\d)' the zero group covers the entire pattern match where as the first group cover (\\d\\d\\d) and the second group cover (\\d\\d\\d-\\d\\d\\d\\d)."
   ]
  },
  {
   "cell_type": "code",
   "execution_count": 6,
   "id": "0e6f4c7c",
   "metadata": {},
   "outputs": [
    {
     "name": "stdout",
     "output_type": "stream",
     "text": [
      "('708', '441-1138')\n",
      "708-441-1138\n",
      "708\n",
      "441-1138\n"
     ]
    }
   ],
   "source": [
    "import re\n",
    "\n",
    "phoneNumRegex = re.compile(r'(\\d\\d\\d)-(\\d\\d\\d-\\d\\d\\d\\d)')\n",
    "\n",
    "mo = phoneNumRegex.search('My number is 708-441-1138.')\n",
    "\n",
    "print(mo.groups()) # Prints all groups in a tuple format\n",
    "print(mo.group())  # Always returns the fully matched string \n",
    "print(mo.group(1)) # Returns the first group\n",
    "print(mo.group(2)) # Returns the second group"
   ]
  },
  {
   "cell_type": "markdown",
   "id": "c2486907",
   "metadata": {},
   "source": [
    "## 6. In standard expression syntax, parentheses and intervals have distinct meanings. How can you tell a regex that you want it to fit real parentheses and periods?\n",
    "### Ans:"
   ]
  },
  {
   "cell_type": "code",
   "execution_count": 9,
   "id": "140cad33",
   "metadata": {},
   "outputs": [
    {
     "name": "stdout",
     "output_type": "stream",
     "text": [
      "(708) 441-1138\n"
     ]
    }
   ],
   "source": [
    "#The \\., \\( and \\) escape characters in the raw string passed to re.compile() will match actual parenthesis characters.\n",
    "\n",
    "import re\n",
    "\n",
    "phoneNumRegex = re.compile(r'(\\(\\d\\d\\d\\)) (\\d\\d\\d-\\d\\d\\d\\d)')\n",
    "mo = phoneNumRegex.search('My phone number is (708) 441-1138.')\n",
    "print(mo.group())"
   ]
  },
  {
   "cell_type": "markdown",
   "id": "49a0ae83",
   "metadata": {},
   "source": [
    "## 7. The findall( ) method returns a string list or a list of string tuples. What causes it to return one of the two options?\n",
    "### Ans:"
   ]
  },
  {
   "cell_type": "markdown",
   "id": "62b584df",
   "metadata": {},
   "source": [
    "If the regex pattern has no groups, a list of strings matched is returned. if the regex pattern has groups, a list of tuple of strings is returned."
   ]
  },
  {
   "cell_type": "code",
   "execution_count": 11,
   "id": "d4273f1f",
   "metadata": {},
   "outputs": [
    {
     "name": "stdout",
     "output_type": "stream",
     "text": [
      "[('(708)', '441-1138')]\n",
      "['708-441-1138']\n"
     ]
    }
   ],
   "source": [
    "import re\n",
    "phoneNumRegex = re.compile(r'(\\(\\d\\d\\d\\)) (\\d\\d\\d-\\d\\d\\d\\d)')\n",
    "mo = phoneNumRegex.findall('My phone number is (708) 441-1138.')\n",
    "print(mo)  # Prints all groups in a tuple format\n",
    "\n",
    "\n",
    "phoneNumRegex = re.compile(r'\\d{3}-\\d{3}-\\d{4}')\n",
    "mo = phoneNumRegex.findall('My number is 708-441-1138.')\n",
    "print(mo) "
   ]
  },
  {
   "cell_type": "markdown",
   "id": "e1542ef2",
   "metadata": {},
   "source": [
    "## 8. In standard expressions, what does the | character mean?\n",
    "### Ans:"
   ]
  },
  {
   "cell_type": "markdown",
   "id": "8adc1851",
   "metadata": {},
   "source": [
    "In Standard Expressions | means OR operator."
   ]
  },
  {
   "cell_type": "markdown",
   "id": "0afb1a3e",
   "metadata": {},
   "source": [
    "## 9. In regular expressions, what does the character stand for?\n",
    "### Ans:"
   ]
  },
  {
   "cell_type": "markdown",
   "id": "fae8cf6f",
   "metadata": {},
   "source": [
    "In regular Expressions; ? characters represents zero or one match of the preceeding group."
   ]
  },
  {
   "cell_type": "code",
   "execution_count": 12,
   "id": "5fbc71ad",
   "metadata": {},
   "outputs": [
    {
     "name": "stdout",
     "output_type": "stream",
     "text": [
      "<re.Match object; span=(0, 6), match='Batman'>\n",
      "<re.Match object; span=(0, 8), match='Batwoman'>\n"
     ]
    }
   ],
   "source": [
    "import re\n",
    "\n",
    "match_1 = re.search(\"Bat(wo)?man\",\"Batman returns\")\n",
    "print(match_1)\n",
    "match_2 = re.search(\"Bat(wo)?man\",\"Batwoman returns\")\n",
    "print(match_2)"
   ]
  },
  {
   "cell_type": "markdown",
   "id": "c468c95c",
   "metadata": {},
   "source": [
    "## 10.In regular expressions, what is the difference between the + and * characters?\n",
    "### Ans:"
   ]
  },
  {
   "cell_type": "markdown",
   "id": "6775f817",
   "metadata": {},
   "source": [
    "In Regular Expressions, (*) Represents Zero or more occurances of the preceeding group, whereas (+) represents one or more occurances of the preceeding group."
   ]
  },
  {
   "cell_type": "code",
   "execution_count": 13,
   "id": "87d06dde",
   "metadata": {},
   "outputs": [
    {
     "name": "stdout",
     "output_type": "stream",
     "text": [
      "<re.Match object; span=(0, 6), match='Batman'>\n",
      "None\n"
     ]
    }
   ],
   "source": [
    "import re\n",
    "\n",
    "match_1 = re.search(\"Bat(wo)*man\",\"Batman returns\")\n",
    "print(match_1)\n",
    "match_2 = re.search(\"Bat(wo)+man\",\"Batman returns\")\n",
    "print(match_2)"
   ]
  },
  {
   "cell_type": "markdown",
   "id": "fa374fa1",
   "metadata": {},
   "source": [
    "## 11. What is the difference between {4} and {4,5} in regular expression?\n",
    "### Ans:"
   ]
  },
  {
   "cell_type": "markdown",
   "id": "d44fd7e1",
   "metadata": {},
   "source": [
    "{4} means that its preceeding group should repeat 4 times, whereas {4,5} means that its preceeding group should repeat mininum 4 times and maximum 5 times inclusively."
   ]
  },
  {
   "cell_type": "markdown",
   "id": "397b52bd",
   "metadata": {},
   "source": [
    "## 12. What do you mean by the \\d, \\w, and \\s shorthand character classes signify in regular expressions?\n",
    "### Ans:"
   ]
  },
  {
   "cell_type": "markdown",
   "id": "c91dcc2a",
   "metadata": {},
   "source": [
    "\\d, \\w and \\s are special sequences in regular expresssions in python:"
   ]
  },
  {
   "cell_type": "code",
   "execution_count": 14,
   "id": "cde51bcd",
   "metadata": {},
   "outputs": [],
   "source": [
    "# \\w – Matches a word character equivalent to [a-z A-Z 0-9_]\n",
    "\n",
    "# \\d – Matches digit character equivalent to [0-9]\n",
    "\n",
    "# \\s – Matches whitespace character (space, tab, newline, etc."
   ]
  },
  {
   "cell_type": "markdown",
   "id": "73d5748c",
   "metadata": {},
   "source": [
    "## 13. What do means by \\D, \\W, and \\S shorthand character classes signify in regular expressions?\n",
    "### Ans:"
   ]
  },
  {
   "cell_type": "markdown",
   "id": "6c65c0cf",
   "metadata": {},
   "source": [
    "\\D, \\W and \\S are special sequences in regular expresssions in python. "
   ]
  },
  {
   "cell_type": "code",
   "execution_count": 15,
   "id": "00882adf",
   "metadata": {},
   "outputs": [],
   "source": [
    "# \\W – Matches any non-alphanumeric character equivalent to [^a-z A-Z 0-9_]\n",
    "\n",
    "# \\D – Matches any non-digit character, this is equivalent to the set class [^0-9]\n",
    "\n",
    "# \\S – Matches any non-whitespace character"
   ]
  },
  {
   "cell_type": "markdown",
   "id": "b4ae90f7",
   "metadata": {},
   "source": [
    "## 14. What is the difference between .* ? and .* ?\n",
    "### Ans: "
   ]
  },
  {
   "cell_type": "code",
   "execution_count": 16,
   "id": "63bd9ff3",
   "metadata": {},
   "outputs": [],
   "source": [
    "#  .*  is a Greedy mode, which returns the longest string that meets the condition. Whereas .*?  is a non greedy mode which returns the shortest string that meets the condition."
   ]
  },
  {
   "cell_type": "markdown",
   "id": "e64a0f9c",
   "metadata": {},
   "source": [
    "## 15. What is the syntax for matching both numbers and lowercase letters with a character class?\n",
    "### Ans:"
   ]
  },
  {
   "cell_type": "markdown",
   "id": "04c7356b",
   "metadata": {},
   "source": [
    "The Syntax is Either [a-z 0-9] or [0-9 a-z]."
   ]
  },
  {
   "cell_type": "markdown",
   "id": "72175304",
   "metadata": {},
   "source": [
    "## 16. What is the procedure for making a normal expression in regax case insensitive?\n",
    "### Ans:"
   ]
  },
  {
   "cell_type": "markdown",
   "id": "e4b65193",
   "metadata": {},
   "source": [
    "We can pass  re.IGNORECASE as a flag to make a noraml expression case insensitive."
   ]
  },
  {
   "cell_type": "markdown",
   "id": "2b4479a7",
   "metadata": {},
   "source": [
    "## 17. What does the . character normally match? What does it match if re.DOTALL is passed as 2nd argument in re.compile( )?\n",
    "### Ans:"
   ]
  },
  {
   "cell_type": "markdown",
   "id": "1b0e1b66",
   "metadata": {},
   "source": [
    "Dot . character matches everything in input except newline character.\n",
    "\n",
    "By passing re.DOTALL as a flag to re.compile( ), we can make the dot character match all characters, including the newline character."
   ]
  },
  {
   "cell_type": "markdown",
   "id": "293d7f64",
   "metadata": {},
   "source": [
    "## 18. If numReg = re.compile(r'\\d+'), what will numRegex.sub('X', '11 drummers, 10 pipers, five rings, 4 hen') return?\n",
    "### Ans:"
   ]
  },
  {
   "cell_type": "code",
   "execution_count": 17,
   "id": "bce2184d",
   "metadata": {},
   "outputs": [
    {
     "data": {
      "text/plain": [
       "'X drummers, X pipers, five rings, X hen'"
      ]
     },
     "execution_count": 17,
     "metadata": {},
     "output_type": "execute_result"
    }
   ],
   "source": [
    "#The Ouput will be 'X drummers,X pipers, five rings, X hen'.\n",
    "\n",
    "import re\n",
    "\n",
    "numReg = re.compile(r'\\d+')\n",
    "numReg.sub('X', '11 drummers, 10 pipers, five rings, 4 hen')"
   ]
  },
  {
   "cell_type": "markdown",
   "id": "54af323d",
   "metadata": {},
   "source": [
    "## 19. What does passing re.VERBOSE as the 2nd argument to re.compile() allow to do?\n",
    "### Ans:"
   ]
  },
  {
   "cell_type": "markdown",
   "id": "ae6e2fed",
   "metadata": {},
   "source": [
    "re.VERBOSE will allow to add whitespace and comments to string passed to re.compile( )."
   ]
  },
  {
   "cell_type": "markdown",
   "id": "1a02972d",
   "metadata": {},
   "source": [
    "## 20. How would you write a regex that match a number with comma for every three digits? It must match the given following:"
   ]
  },
  {
   "cell_type": "markdown",
   "id": "51b686b7",
   "metadata": {},
   "source": [
    "'42'"
   ]
  },
  {
   "cell_type": "markdown",
   "id": "7aa8e390",
   "metadata": {},
   "source": [
    "'1,234'"
   ]
  },
  {
   "cell_type": "markdown",
   "id": "777efed3",
   "metadata": {},
   "source": [
    "'6,368,745'"
   ]
  },
  {
   "cell_type": "markdown",
   "id": "1c3647d1",
   "metadata": {},
   "source": [
    "#### but not the following:"
   ]
  },
  {
   "cell_type": "markdown",
   "id": "c9fecaef",
   "metadata": {},
   "source": [
    "'12,34,567' (which has only two digits between the commas)"
   ]
  },
  {
   "cell_type": "markdown",
   "id": "247cf54a",
   "metadata": {},
   "source": [
    "'1234' (which lacks commas)"
   ]
  },
  {
   "cell_type": "markdown",
   "id": "899a96aa",
   "metadata": {},
   "source": [
    "### Ans:"
   ]
  },
  {
   "cell_type": "code",
   "execution_count": 20,
   "id": "5fcafb3b",
   "metadata": {},
   "outputs": [
    {
     "name": "stdout",
     "output_type": "stream",
     "text": [
      "Output: 42 : <re.Match object; span=(0, 2), match='42'>\n",
      "Output: 1,234 : <re.Match object; span=(0, 5), match='1,234'>\n",
      "Output: 6,368,745 : <re.Match object; span=(0, 9), match='6,368,745'>\n",
      "Output: 12,34,567 : None\n",
      "Output: 1234 : None\n"
     ]
    }
   ],
   "source": [
    "import re\n",
    "\n",
    "pattern = r'^\\d{1,3}(,\\d{3})*$'\n",
    "\n",
    "pagex = re.compile(pattern)\n",
    "\n",
    "for ele in ['42','1,234', '6,368,745','12,34,567','1234']:\n",
    "    print('Output:',ele, ':', pagex.search(ele))"
   ]
  },
  {
   "cell_type": "markdown",
   "id": "c7905330",
   "metadata": {},
   "source": [
    "## 21. How would you write a regex that matches the full name of someone whose last name is Watanabe? You can assume that the first name that comes before it will always be one word that begins with a capital letter. The regex must match the following:"
   ]
  },
  {
   "cell_type": "markdown",
   "id": "75a59d38",
   "metadata": {},
   "source": [
    "'Haruto Watanabe'"
   ]
  },
  {
   "cell_type": "markdown",
   "id": "89beda53",
   "metadata": {},
   "source": [
    "'Alice Watanabe'"
   ]
  },
  {
   "cell_type": "markdown",
   "id": "497bf733",
   "metadata": {},
   "source": [
    "'RoboCop Watanabe'"
   ]
  },
  {
   "cell_type": "markdown",
   "id": "6fd886c6",
   "metadata": {},
   "source": [
    "#### but not the following:"
   ]
  },
  {
   "cell_type": "markdown",
   "id": "f92d6158",
   "metadata": {},
   "source": [
    "'haruto Watanabe' (where the first name is not capitalized)"
   ]
  },
  {
   "cell_type": "markdown",
   "id": "fc2a1410",
   "metadata": {},
   "source": [
    "'Mr. Watanabe' (where the preceding word has a nonletter character)"
   ]
  },
  {
   "cell_type": "markdown",
   "id": "7fc8efc1",
   "metadata": {},
   "source": [
    "'Watanabe' (which has no first name)"
   ]
  },
  {
   "cell_type": "markdown",
   "id": "d44fedea",
   "metadata": {},
   "source": [
    "'Haruto watanabe' (where Watanabe is not capitalized)"
   ]
  },
  {
   "cell_type": "markdown",
   "id": "71a06fc7",
   "metadata": {},
   "source": [
    "### Ans:"
   ]
  },
  {
   "cell_type": "code",
   "execution_count": 21,
   "id": "44d50377",
   "metadata": {},
   "outputs": [
    {
     "name": "stdout",
     "output_type": "stream",
     "text": [
      "Output:  Haruto Watanabe : <re.Match object; span=(0, 15), match='Haruto Watanabe'>\n",
      "Output:  Alice Watanabe : <re.Match object; span=(0, 14), match='Alice Watanabe'>\n",
      "Output:  RoboCop Watanabe : <re.Match object; span=(4, 16), match='Cop Watanabe'>\n",
      "Output:  haruto Watanabe : None\n",
      "Output:  Mr. Watanabe : None\n",
      "Output:  Watanabe : None\n",
      "Output:  Haruto watanabe : None\n"
     ]
    }
   ],
   "source": [
    "import re\n",
    "\n",
    "pattern = r'[A-Z]{1}[a-z]*\\sWatanabe'\n",
    "namex = re.compile(pattern)\n",
    "for name in ['Haruto Watanabe','Alice Watanabe','RoboCop Watanabe','haruto Watanabe','Mr. Watanabe','Watanabe','Haruto watanabe']:\n",
    "    print('Output: ',name,':',namex.search(name))"
   ]
  },
  {
   "cell_type": "markdown",
   "id": "2528565d",
   "metadata": {},
   "source": [
    "## 22. How would you write a regex that matches a sentence where the first word is either Alice, Bob, or Carol; the second word is either eats, pets, or throws; the third word is apples, cats, or baseballs; and the sentence ends with a period? This regex should be case-insensitive. It must match the following:"
   ]
  },
  {
   "cell_type": "markdown",
   "id": "d529d515",
   "metadata": {},
   "source": [
    "'Alice eats apples.'"
   ]
  },
  {
   "cell_type": "markdown",
   "id": "e6a5ca28",
   "metadata": {},
   "source": [
    "'Bob pets cats.'"
   ]
  },
  {
   "cell_type": "markdown",
   "id": "c4857e6a",
   "metadata": {},
   "source": [
    "'Carol throws baseballs.'"
   ]
  },
  {
   "cell_type": "markdown",
   "id": "798e9be5",
   "metadata": {},
   "source": [
    "'Alice throws Apples.'"
   ]
  },
  {
   "cell_type": "markdown",
   "id": "1910ce94",
   "metadata": {},
   "source": [
    "'BOB EATS CATS.'"
   ]
  },
  {
   "cell_type": "markdown",
   "id": "5428f4a0",
   "metadata": {},
   "source": [
    "#### but not the following:"
   ]
  },
  {
   "cell_type": "markdown",
   "id": "a548240a",
   "metadata": {},
   "source": [
    "'RoboCop eats apples.'"
   ]
  },
  {
   "cell_type": "markdown",
   "id": "e9132014",
   "metadata": {},
   "source": [
    "'ALICE THROWS FOOTBALLS.'"
   ]
  },
  {
   "cell_type": "markdown",
   "id": "9916d993",
   "metadata": {},
   "source": [
    "'Carol eats 7 cats.'"
   ]
  },
  {
   "cell_type": "markdown",
   "id": "39677d5f",
   "metadata": {},
   "source": [
    "### Ans:"
   ]
  },
  {
   "cell_type": "code",
   "execution_count": 23,
   "id": "68a10db4",
   "metadata": {},
   "outputs": [],
   "source": [
    "#  pattern = r'(Alice|Bob|Carol)\\s(eats|pets|throws)\\s(apples|cats|baseballs)\\.'"
   ]
  },
  {
   "cell_type": "code",
   "execution_count": 24,
   "id": "a57c6b5e",
   "metadata": {},
   "outputs": [
    {
     "name": "stdout",
     "output_type": "stream",
     "text": [
      "Output:  Alice eats apples. : <re.Match object; span=(0, 18), match='Alice eats apples.'>\n",
      "Output:  Bob pets cats. : <re.Match object; span=(0, 14), match='Bob pets cats.'>\n",
      "Output:  Carol throws baseballs. : <re.Match object; span=(0, 23), match='Carol throws baseballs.'>\n",
      "Output:  Alice throws Apples. : <re.Match object; span=(0, 20), match='Alice throws Apples.'>\n",
      "Output:  BOB EATS CATS. : <re.Match object; span=(0, 14), match='BOB EATS CATS.'>\n",
      "Output:  RoboCop eats apples. : None\n",
      "Output:  ALICE THROWS FOOTBALLS. : None\n",
      "Output:  Carol eats 7 cats. : None\n"
     ]
    }
   ],
   "source": [
    "import re\n",
    "pattern = r'(Alice|Bob|Carol)\\s(eats|pets|throws)\\s(apples|cats|baseballs)\\.'\n",
    "casex = re.compile(pattern,re.IGNORECASE)\n",
    "for ele in ['Alice eats apples.','Bob pets cats.','Carol throws baseballs.','Alice throws Apples.','BOB EATS CATS.','RoboCop eats apples.'\n",
    ",'ALICE THROWS FOOTBALLS.','Carol eats 7 cats.']:\n",
    "    print('Output: ',ele,':',casex.search(ele))"
   ]
  }
 ],
 "metadata": {
  "kernelspec": {
   "display_name": "Python 3 (ipykernel)",
   "language": "python",
   "name": "python3"
  },
  "language_info": {
   "codemirror_mode": {
    "name": "ipython",
    "version": 3
   },
   "file_extension": ".py",
   "mimetype": "text/x-python",
   "name": "python",
   "nbconvert_exporter": "python",
   "pygments_lexer": "ipython3",
   "version": "3.9.12"
  }
 },
 "nbformat": 4,
 "nbformat_minor": 5
}
