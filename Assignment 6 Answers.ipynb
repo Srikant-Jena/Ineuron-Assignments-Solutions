{
 "cells": [
  {
   "cell_type": "markdown",
   "id": "8bdf65db",
   "metadata": {},
   "source": [
    "## 1. What are escape characters, and how do you use them?\n",
    "### Ans:"
   ]
  },
  {
   "cell_type": "markdown",
   "id": "ec066f02",
   "metadata": {},
   "source": [
    "Escape characters represent characters in string values that would otherwise be difficult or impossible to type into code. We can use the backslash character \\ to escape a single character or symbol.\n",
    "\n",
    "example: \\t, \\n"
   ]
  },
  {
   "cell_type": "markdown",
   "id": "f06d405b",
   "metadata": {},
   "source": [
    "## 2. What do the escape characters n and t stand for?\n",
    "### Ans:"
   ]
  },
  {
   "cell_type": "markdown",
   "id": "0b0d0586",
   "metadata": {},
   "source": [
    "\\n is for newline, \\t is for a tab"
   ]
  },
  {
   "cell_type": "markdown",
   "id": "4eee4246",
   "metadata": {},
   "source": [
    "## 3. What is the way to include backslash characters in a string?\n",
    "### Ans:"
   ]
  },
  {
   "cell_type": "markdown",
   "id": "15a01af7",
   "metadata": {},
   "source": [
    "Putting another backslash before the backslash will represent the backslash character in a string.\n",
    "\n",
    "example: \\ \\"
   ]
  },
  {
   "cell_type": "markdown",
   "id": "bf16c21d",
   "metadata": {},
   "source": [
    "## 4. The string \"Howl's Moving Castle\" is a correct value. Why isn't the single quote character in the word Howl's not escaped a problem?\n",
    "### Ans:"
   ]
  },
  {
   "cell_type": "markdown",
   "id": "520cf701",
   "metadata": {},
   "source": [
    "The string \"Howl's Moving Castle\" escaped the problem because it is wrapped inside double quotes. if it was wrapped inside single quotes then we have to use escape character \\' to show single quote in the final output.\n",
    "\n",
    "Then we had to write it like this:\n",
    "\n",
    "'Howl\\'s Moving Castle' returns 'Howl's Moving Castle'."
   ]
  },
  {
   "cell_type": "markdown",
   "id": "b606b950",
   "metadata": {},
   "source": [
    "## 5. How do you write a string of newlines if you don't want to use the n character?\n",
    "### Ans:"
   ]
  },
  {
   "cell_type": "markdown",
   "id": "c5885ba1",
   "metadata": {},
   "source": [
    "Multiline string in Python allows one to use newlines in string without using the \\n escape character."
   ]
  },
  {
   "cell_type": "code",
   "execution_count": 1,
   "id": "7987852f",
   "metadata": {},
   "outputs": [
    {
     "name": "stdout",
     "output_type": "stream",
     "text": [
      "In\n",
      "iNeuron \n",
      "Full Stack Data Science Course\n",
      "currently I am doing \n",
      "python Basic assignments.\n",
      "\n"
     ]
    }
   ],
   "source": [
    "x = '''In\n",
    "iNeuron \n",
    "Full Stack Data Science Course\n",
    "currently I am doing \n",
    "python Basic assignments.\n",
    "'''\n",
    "\n",
    "print(x)"
   ]
  },
  {
   "cell_type": "markdown",
   "id": "890428e4",
   "metadata": {},
   "source": [
    "## 6. What are the values of the given expressions?\n",
    "### Ans:"
   ]
  },
  {
   "cell_type": "code",
   "execution_count": 2,
   "id": "1fcf5ac3",
   "metadata": {},
   "outputs": [
    {
     "data": {
      "text/plain": [
       "'e'"
      ]
     },
     "execution_count": 2,
     "metadata": {},
     "output_type": "execute_result"
    }
   ],
   "source": [
    "'Hello, world!'[1]"
   ]
  },
  {
   "cell_type": "code",
   "execution_count": 3,
   "id": "cdad49c6",
   "metadata": {},
   "outputs": [
    {
     "data": {
      "text/plain": [
       "'Hello'"
      ]
     },
     "execution_count": 3,
     "metadata": {},
     "output_type": "execute_result"
    }
   ],
   "source": [
    "'Hello, world!'[0:5]"
   ]
  },
  {
   "cell_type": "code",
   "execution_count": 4,
   "id": "3a160d10",
   "metadata": {},
   "outputs": [
    {
     "data": {
      "text/plain": [
       "'Hello'"
      ]
     },
     "execution_count": 4,
     "metadata": {},
     "output_type": "execute_result"
    }
   ],
   "source": [
    "'Hello, world!'[:5]"
   ]
  },
  {
   "cell_type": "code",
   "execution_count": 5,
   "id": "b902ff7f",
   "metadata": {},
   "outputs": [
    {
     "data": {
      "text/plain": [
       "'lo, world!'"
      ]
     },
     "execution_count": 5,
     "metadata": {},
     "output_type": "execute_result"
    }
   ],
   "source": [
    "'Hello, world!'[3:]"
   ]
  },
  {
   "cell_type": "markdown",
   "id": "2a4980c7",
   "metadata": {},
   "source": [
    "## 7. What are the values of the following expressions?\n",
    "### Ans:"
   ]
  },
  {
   "cell_type": "code",
   "execution_count": 6,
   "id": "ac593598",
   "metadata": {},
   "outputs": [
    {
     "data": {
      "text/plain": [
       "'HELLO'"
      ]
     },
     "execution_count": 6,
     "metadata": {},
     "output_type": "execute_result"
    }
   ],
   "source": [
    "'Hello'.upper()"
   ]
  },
  {
   "cell_type": "code",
   "execution_count": 7,
   "id": "0ff3856b",
   "metadata": {},
   "outputs": [
    {
     "data": {
      "text/plain": [
       "True"
      ]
     },
     "execution_count": 7,
     "metadata": {},
     "output_type": "execute_result"
    }
   ],
   "source": [
    "'Hello'.upper().isupper()"
   ]
  },
  {
   "cell_type": "code",
   "execution_count": 8,
   "id": "5d9dc323",
   "metadata": {},
   "outputs": [
    {
     "data": {
      "text/plain": [
       "'hello'"
      ]
     },
     "execution_count": 8,
     "metadata": {},
     "output_type": "execute_result"
    }
   ],
   "source": [
    "'Hello'.upper().lower()"
   ]
  },
  {
   "cell_type": "markdown",
   "id": "2c138e6f",
   "metadata": {},
   "source": [
    "## 8. What are the values of the following expressions?\n",
    "### Ans: "
   ]
  },
  {
   "cell_type": "code",
   "execution_count": 9,
   "id": "0196d3fb",
   "metadata": {},
   "outputs": [
    {
     "data": {
      "text/plain": [
       "['Remember,', 'remember,', 'the', 'fifth', 'of', 'July.']"
      ]
     },
     "execution_count": 9,
     "metadata": {},
     "output_type": "execute_result"
    }
   ],
   "source": [
    "'Remember, remember, the fifth of July.'.split()"
   ]
  },
  {
   "cell_type": "code",
   "execution_count": 10,
   "id": "954805f4",
   "metadata": {},
   "outputs": [
    {
     "data": {
      "text/plain": [
       "'There-can-only-one.'"
      ]
     },
     "execution_count": 10,
     "metadata": {},
     "output_type": "execute_result"
    }
   ],
   "source": [
    "'-'.join('There can only one.'.split())"
   ]
  },
  {
   "cell_type": "markdown",
   "id": "ff9a02ee",
   "metadata": {},
   "source": [
    "## 9. What are the methods for right-justifying, left-justifying, and centering a string?\n",
    "### Ans:"
   ]
  },
  {
   "cell_type": "markdown",
   "id": "17194570",
   "metadata": {},
   "source": [
    "The rjust(),ljust()and center() string methods, respectively."
   ]
  },
  {
   "cell_type": "markdown",
   "id": "688d61fe",
   "metadata": {},
   "source": [
    "## 10. What is the best way to remove whitespace characters from the start or end?\n",
    "### Ans:"
   ]
  },
  {
   "cell_type": "markdown",
   "id": "98e5fb1a",
   "metadata": {},
   "source": [
    "The strip(), lstrip() and rstrip() methods remove whitesapce characters from the left and right ends of a string respectively."
   ]
  }
 ],
 "metadata": {
  "kernelspec": {
   "display_name": "Python 3 (ipykernel)",
   "language": "python",
   "name": "python3"
  },
  "language_info": {
   "codemirror_mode": {
    "name": "ipython",
    "version": 3
   },
   "file_extension": ".py",
   "mimetype": "text/x-python",
   "name": "python",
   "nbconvert_exporter": "python",
   "pygments_lexer": "ipython3",
   "version": "3.9.12"
  }
 },
 "nbformat": 4,
 "nbformat_minor": 5
}
