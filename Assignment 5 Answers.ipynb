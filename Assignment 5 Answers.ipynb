{
 "cells": [
  {
   "cell_type": "markdown",
   "id": "e82cabb5",
   "metadata": {},
   "source": [
    "## 1. What does an empty dictionary's code look like?\n",
    "### Ans:"
   ]
  },
  {
   "cell_type": "markdown",
   "id": "42b17a31",
   "metadata": {},
   "source": [
    "An empty dictionary is often represented by two empty curly brackets or by the dict( ).\n",
    "\n",
    "d = { } or d = dict( )"
   ]
  },
  {
   "cell_type": "markdown",
   "id": "52c41ec0",
   "metadata": {},
   "source": [
    "## 2. What is the value of a dictionary value with the key 'foo' and the value 42?\n",
    "### Ans:"
   ]
  },
  {
   "cell_type": "markdown",
   "id": "8b7b8deb",
   "metadata": {},
   "source": [
    "The value of the dictionary will be:\n",
    "\n",
    "{'foo' : 42}"
   ]
  },
  {
   "cell_type": "markdown",
   "id": "c56f0b76",
   "metadata": {},
   "source": [
    "## 3. What is the most significant distinction between a dictionary and a list?\n",
    "### Ans:"
   ]
  },
  {
   "cell_type": "markdown",
   "id": "9bf9e8ab",
   "metadata": {},
   "source": [
    "1. A dictionary is represented by { } where as a list is represented by [ ].\n",
    "2. Also the items in the  list are unordered whereas in dictionary they are ordered.\n",
    "3. The items in dictionary are in key:value pair whereas there is no such thing in dictionary.\n",
    "4. In list each item has an index but in dictionary there is no index."
   ]
  },
  {
   "cell_type": "markdown",
   "id": "9c8668be",
   "metadata": {},
   "source": [
    "## 4. What happens if you try to access spam['foo'] if spam is {'bar': 100}?\n",
    "### Ans:"
   ]
  },
  {
   "cell_type": "markdown",
   "id": "c67f6048",
   "metadata": {},
   "source": [
    "It will throw a keyError KeyError: 'foo'."
   ]
  },
  {
   "cell_type": "markdown",
   "id": "30c7f8a3",
   "metadata": {},
   "source": [
    "## 5. If a dictionary is stored in spam, what is the difference between the expressions 'cat' in spam and 'cat' in spam.keys()?\n",
    "### Ans:"
   ]
  },
  {
   "cell_type": "markdown",
   "id": "4d6b5002",
   "metadata": {},
   "source": [
    "There is no difference . The operator only checks whether a value exists as a key in the dictionary or not."
   ]
  },
  {
   "cell_type": "markdown",
   "id": "827fac64",
   "metadata": {},
   "source": [
    "## 6. If a dictionary is stored in spam, what is the difference between the expressions 'cat' in spam and 'cat' in spam.values()?\n",
    "### Ans:"
   ]
  },
  {
   "cell_type": "markdown",
   "id": "10aee79f",
   "metadata": {},
   "source": [
    "'cat' in spam checks whether there is a 'cat' key in the dictionary, while 'cat' in spam.values() checks whether there is a value 'cat' for one of the keys in spam."
   ]
  },
  {
   "cell_type": "markdown",
   "id": "4630b459",
   "metadata": {},
   "source": [
    "## 7. What is a shortcut for the following code?\n",
    "### if 'color' not in spam:\n",
    "### spam['color'] = 'black'\n",
    "### Ans:\n"
   ]
  },
  {
   "cell_type": "markdown",
   "id": "53422d9d",
   "metadata": {},
   "source": [
    "Shortcut is using setdefault() like:     \n",
    "\n",
    "spam.setdefault('color','black')\n",
    "\n"
   ]
  },
  {
   "cell_type": "markdown",
   "id": "f8faa564",
   "metadata": {},
   "source": [
    "## 8. How do you \"pretty print\" dictionary values using which module and function?\n",
    "### Ans:"
   ]
  },
  {
   "cell_type": "markdown",
   "id": "a00fba60",
   "metadata": {},
   "source": [
    "Within the pprint module there is a function with the same name pprint() , which is the function used to pretty-print the given string or object. First, declare an array of dictionaries. Afterward, pretty print it using the function pprint."
   ]
  },
  {
   "cell_type": "code",
   "execution_count": 1,
   "id": "5244e862",
   "metadata": {},
   "outputs": [
    {
     "name": "stdout",
     "output_type": "stream",
     "text": [
      "[{'Age': '23', 'Country': 'IN', 'Name': 'Bapi'},\n",
      " {'Age': '44', 'Country': 'USA', 'Name': 'Ruby'},\n",
      " {'Age': '29', 'Country': 'UK', 'Name': 'Dipu'},\n",
      " {'Age': '35', 'Country': 'Japan', 'Name': 'Sonu'}]\n"
     ]
    }
   ],
   "source": [
    "import pprint\n",
    "\n",
    "dct_arr = [\n",
    "  {'Name': 'Bapi', 'Age': '23', 'Country': 'IN'},\n",
    "  {'Name': 'Ruby', 'Age': '44', 'Country': 'USA'},\n",
    "  {'Name': 'Dipu', 'Age': '29', 'Country': 'UK'},\n",
    "  {'Name': 'Sonu', 'Age': '35', 'Country': 'Japan'}\n",
    "]\n",
    "\n",
    "pprint.pprint(dct_arr)"
   ]
  }
 ],
 "metadata": {
  "kernelspec": {
   "display_name": "Python 3 (ipykernel)",
   "language": "python",
   "name": "python3"
  },
  "language_info": {
   "codemirror_mode": {
    "name": "ipython",
    "version": 3
   },
   "file_extension": ".py",
   "mimetype": "text/x-python",
   "name": "python",
   "nbconvert_exporter": "python",
   "pygments_lexer": "ipython3",
   "version": "3.9.12"
  }
 },
 "nbformat": 4,
 "nbformat_minor": 5
}
