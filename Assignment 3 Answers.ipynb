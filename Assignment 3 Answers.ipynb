{
 "cells": [
  {
   "cell_type": "markdown",
   "id": "cb2e8393",
   "metadata": {},
   "source": [
    "## 1. Why are functions advantageous to have in your programs?\n",
    "### Ans:"
   ]
  },
  {
   "cell_type": "markdown",
   "id": "50846c53",
   "metadata": {},
   "source": [
    "Functions are reusable codes, means that functions reduce the need for rewrite a code. This makes programs shorter, easier to read, and easier to update."
   ]
  },
  {
   "cell_type": "markdown",
   "id": "203c4b99",
   "metadata": {},
   "source": [
    "## 2. When does the code in a function run: when it's specified or when it's called?\n",
    "### Ans:"
   ]
  },
  {
   "cell_type": "markdown",
   "id": "5ad4121d",
   "metadata": {},
   "source": [
    "The code in a function executes when the function is called, and not when the function is specified or defined."
   ]
  },
  {
   "cell_type": "markdown",
   "id": "dd695c20",
   "metadata": {},
   "source": [
    "## 3. What statement creates a function?\n",
    "### Ans:"
   ]
  },
  {
   "cell_type": "markdown",
   "id": "4914dfae",
   "metadata": {},
   "source": [
    "In general; we can create a function by using the \"def\" keyword or for an anonymous or one line function we can use keyword \"lambda\" ."
   ]
  },
  {
   "cell_type": "code",
   "execution_count": 1,
   "id": "cb51f73a",
   "metadata": {},
   "outputs": [],
   "source": [
    "# Normal function syntax:\n",
    "\n",
    "# def function_name(arguements):\n",
    "#     function body\n",
    "#     return value\n",
    "\n",
    "\n",
    "# Lambda function syntax:\n",
    "\n",
    "# lambda arguements: return value using the arguements"
   ]
  },
  {
   "cell_type": "markdown",
   "id": "ce885027",
   "metadata": {},
   "source": [
    "## 4. What is the difference between a function and a function call?\n",
    "### Ans:"
   ]
  },
  {
   "cell_type": "markdown",
   "id": "a655a8f4",
   "metadata": {},
   "source": [
    "   A function is a procedure to achieve a result by using the passed arguements to it, while function call is using the created function to pass the arguements to achive a particular task. Using a function to do a particular task at any point in program is called as function call."
   ]
  },
  {
   "cell_type": "markdown",
   "id": "73944bc1",
   "metadata": {},
   "source": [
    "## 5. How many global scopes are there in a Python program? How many local scopes?\n",
    "### Ans:"
   ]
  },
  {
   "cell_type": "markdown",
   "id": "1ece7bb4",
   "metadata": {},
   "source": [
    "There is  only one global Python scope present as  per program execution. Whereas there can be as many local scopes as needed. A local scope is created whenever a function is called."
   ]
  },
  {
   "cell_type": "markdown",
   "id": "8c02aaf9",
   "metadata": {},
   "source": [
    "## 6. What happens to variables in a local scope when the function call returns?\n",
    "### Ans:"
   ]
  },
  {
   "cell_type": "markdown",
   "id": "0dbd27ce",
   "metadata": {},
   "source": [
    "When a function returns, the local scope ends, and all the variables in the function are reset to their initial values."
   ]
  },
  {
   "cell_type": "markdown",
   "id": "fbb575ec",
   "metadata": {},
   "source": [
    "## 7. What is the concept of a return value? Is it possible to have a return value in an expression?\n",
    "### Ans:"
   ]
  },
  {
   "cell_type": "markdown",
   "id": "43301913",
   "metadata": {},
   "source": [
    "A return value is the value that a function call evaluates to through the function body. Like any value, a return value can be used as part of an expression."
   ]
  },
  {
   "cell_type": "markdown",
   "id": "eccb884f",
   "metadata": {},
   "source": [
    "## 8. If a function does not have a return statement, what is the return value of a call to that function?\n",
    "### Ans:"
   ]
  },
  {
   "cell_type": "markdown",
   "id": "5b8f6358",
   "metadata": {},
   "source": [
    "If there is no return statement for a function, its return value will be None."
   ]
  },
  {
   "cell_type": "markdown",
   "id": "dcebe3f0",
   "metadata": {},
   "source": [
    "## 9. How do you make a function variable refer to the global variable?\n",
    "### Ans:"
   ]
  },
  {
   "cell_type": "markdown",
   "id": "0f5cc37f",
   "metadata": {},
   "source": [
    "Variables that are created outside of a function body are known as global variables. Global variables can be used both inside and outside of the functions. To refer to a global variable inside a function we need to use the keyword global with the variable name.\n",
    "\n"
   ]
  },
  {
   "cell_type": "markdown",
   "id": "ed768d70",
   "metadata": {},
   "source": [
    "## 10. What is the data type of None?\n",
    "### Ans:"
   ]
  },
  {
   "cell_type": "markdown",
   "id": "915b83ee",
   "metadata": {},
   "source": [
    "The data type of None is NoneType."
   ]
  },
  {
   "cell_type": "markdown",
   "id": "6f5e409f",
   "metadata": {},
   "source": [
    "## 11. What does the sentence import areallyourpetsnamederic do?\n",
    "### Ans:"
   ]
  },
  {
   "cell_type": "markdown",
   "id": "366a013c",
   "metadata": {},
   "source": [
    "It will simply import the  module named areallyourpetsnamederic."
   ]
  },
  {
   "cell_type": "markdown",
   "id": "0ea191b8",
   "metadata": {},
   "source": [
    "## 12. If you had a bacon() feature in a spam module, what would you call it after importing spam?\n",
    "### Ans:"
   ]
  },
  {
   "cell_type": "markdown",
   "id": "b7604d9f",
   "metadata": {},
   "source": [
    "After importing the module spam I will call the feature bacon() as spam.bacon()."
   ]
  },
  {
   "cell_type": "markdown",
   "id": "fb8c5811",
   "metadata": {},
   "source": [
    "## 13. What can you do to save a programme from crashing if it encounters an error?\n",
    "### Ans:"
   ]
  },
  {
   "cell_type": "markdown",
   "id": "a219bf86",
   "metadata": {},
   "source": [
    "If an error occurs in a program, we don’t want the program to unexpectedly crash on the user. Instead, error handling can be used to notify the user of why the error occurred and gracefully exit the process that caused the error.\n",
    "\n",
    "For Example:\n",
    "    \n",
    "try:\n",
    "\n",
    "    problem code\n",
    "\n",
    "except:\n",
    "\n",
    "    error code"
   ]
  },
  {
   "cell_type": "markdown",
   "id": "b74b585e",
   "metadata": {},
   "source": [
    "## 14. What is the purpose of the try clause? What is the purpose of the except clause?\n",
    "### Ans:"
   ]
  },
  {
   "cell_type": "markdown",
   "id": "957b3f44",
   "metadata": {},
   "source": [
    "The try block is used to check some code for errors i.e the code inside the try block will execute when there is no error in the program. Whereas the code inside the except block will execute whenever the program encounters some error in the preceding try block."
   ]
  }
 ],
 "metadata": {
  "kernelspec": {
   "display_name": "Python 3 (ipykernel)",
   "language": "python",
   "name": "python3"
  },
  "language_info": {
   "codemirror_mode": {
    "name": "ipython",
    "version": 3
   },
   "file_extension": ".py",
   "mimetype": "text/x-python",
   "name": "python",
   "nbconvert_exporter": "python",
   "pygments_lexer": "ipython3",
   "version": "3.9.12"
  }
 },
 "nbformat": 4,
 "nbformat_minor": 5
}
