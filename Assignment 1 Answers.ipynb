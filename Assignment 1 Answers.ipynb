{
 "cells": [
  {
   "cell_type": "markdown",
   "id": "d46bbd55",
   "metadata": {},
   "source": [
    "# 1. In the below elements which of them are values or an expression? eg:- values can be integer or string and expressions will be mathematical operators."
   ]
  },
  {
   "cell_type": "raw",
   "id": "a9f9ff20",
   "metadata": {},
   "source": [
    "* = Arithmatic operator(Multiplication) = expression\n",
    "\n",
    "'hello'= String = value\n",
    "\n",
    "-87.8 = Floating point Integer = value\n",
    "\n",
    "-  =  Arithmatic operator(Substraction) =  expression\n",
    "\n",
    "/ =   Arithmatic operator(Division) = expression\n",
    "\n",
    "+ =   Arithmatic operator (Addition) = expression\n",
    "\n",
    "6 = Integer = value\n"
   ]
  },
  {
   "cell_type": "markdown",
   "id": "cf3aae8b",
   "metadata": {},
   "source": [
    "# 2. What is the difference between string and variable?"
   ]
  },
  {
   "cell_type": "raw",
   "id": "4a7d87a5",
   "metadata": {},
   "source": [
    "String - String in Python is a sequence of characters and is a derived data type.They are immutable and we can create them simply by enclosing characters within single or double quotes.\n",
    "\n",
    "Variable - A Python variable is a reserved memory location to store values. In other words, a variable in a python program gives data to the computer for processing."
   ]
  },
  {
   "cell_type": "markdown",
   "id": "6483eee4",
   "metadata": {},
   "source": [
    "# 3. Describe three different data types."
   ]
  },
  {
   "cell_type": "raw",
   "id": "dcbf1f0f",
   "metadata": {},
   "source": [
    "1.Str(Text type) - A sequence of characters is called a string. They are declared within single or double quotes. \n",
    "\n",
    "2.List/Tuple(Sequence type) - List(An ordered sequence of items is called a list and it is mutable)\n",
    "                              Tuple(It is an ordered sequence of elements.Unlike lists,tuples are immutable)\n",
    "                              \n",
    "3.Bool(Boolean type) -  There are 2 types of values. True and False\n",
    "                  "
   ]
  },
  {
   "cell_type": "markdown",
   "id": "8597395c",
   "metadata": {},
   "source": [
    "# 4. What is an expression made up of? What do all expressions do?"
   ]
  },
  {
   "cell_type": "raw",
   "id": "e8e1942f",
   "metadata": {},
   "source": [
    "An expression is made up of values,variables,operators and calls to functions.Expressions need to be evaluated.The evaluation of an expression produces a value."
   ]
  },
  {
   "cell_type": "markdown",
   "id": "39a687c2",
   "metadata": {},
   "source": [
    "# 5. This assignment statements, like spam = 10. What is the difference between an expression and a statement?"
   ]
  },
  {
   "cell_type": "raw",
   "id": "7b5b2299",
   "metadata": {},
   "source": [
    "The only difference betwwn both is; A statement is an instruction that the Python interpreter can execute where as an expression is being evaluated to produce a value.Here,10 is assign to variable called as spam."
   ]
  },
  {
   "cell_type": "markdown",
   "id": "46636226",
   "metadata": {},
   "source": [
    "# 6. After running the following code, what does the variable bacon contain?\n",
    "\n"
   ]
  },
  {
   "cell_type": "code",
   "execution_count": 2,
   "id": "9850a61c",
   "metadata": {},
   "outputs": [
    {
     "data": {
      "text/plain": [
       "23"
      ]
     },
     "execution_count": 2,
     "metadata": {},
     "output_type": "execute_result"
    }
   ],
   "source": [
    "bacon = 22\n",
    "bacon + 1"
   ]
  },
  {
   "cell_type": "markdown",
   "id": "44eb91ec",
   "metadata": {},
   "source": [
    "# 7. What should the values of the following two terms be?"
   ]
  },
  {
   "cell_type": "code",
   "execution_count": 3,
   "id": "8afce295",
   "metadata": {},
   "outputs": [
    {
     "data": {
      "text/plain": [
       "'spamspamspam'"
      ]
     },
     "execution_count": 3,
     "metadata": {},
     "output_type": "execute_result"
    }
   ],
   "source": [
    "'spam' + 'spamspam'"
   ]
  },
  {
   "cell_type": "code",
   "execution_count": 4,
   "id": "b1b68e50",
   "metadata": {},
   "outputs": [
    {
     "data": {
      "text/plain": [
       "'spamspamspam'"
      ]
     },
     "execution_count": 4,
     "metadata": {},
     "output_type": "execute_result"
    }
   ],
   "source": [
    "'spam' * 3"
   ]
  },
  {
   "cell_type": "markdown",
   "id": "0f385d1a",
   "metadata": {},
   "source": [
    "# 8. Why is eggs a valid variable name while 100 is invalid?"
   ]
  },
  {
   "cell_type": "raw",
   "id": "c5e4dde5",
   "metadata": {},
   "source": [
    "Eggs is a valid variable name while 100 is invalid because variable names can not starts with a number.But we can do like eggs10 etc."
   ]
  },
  {
   "cell_type": "markdown",
   "id": "01e410c7",
   "metadata": {},
   "source": [
    "# 9. What three functions can be used to get the integer, floating-point number, or string version of a value?"
   ]
  },
  {
   "cell_type": "raw",
   "id": "ebe7da72",
   "metadata": {},
   "source": [
    "int(), float , str()"
   ]
  },
  {
   "cell_type": "markdown",
   "id": "e7eb5707",
   "metadata": {},
   "source": [
    "# 10. Why does this expression cause an error? How can you fix it?\n",
    "'I have eaten ' + 99 + ' burritos.'\n"
   ]
  },
  {
   "cell_type": "raw",
   "id": "6817c96c",
   "metadata": {},
   "source": [
    "This will cause an error because 99 is an integer and it cant be concatenated with other strings.The only fix to this is; we have to do the typecasting  of the 99 to string by the function str(99)."
   ]
  },
  {
   "cell_type": "code",
   "execution_count": 5,
   "id": "12226fcc",
   "metadata": {},
   "outputs": [
    {
     "data": {
      "text/plain": [
       "'I have eaten 99 burritos.'"
      ]
     },
     "execution_count": 5,
     "metadata": {},
     "output_type": "execute_result"
    }
   ],
   "source": [
    "'I have eaten ' + str(99) + ' burritos.'"
   ]
  }
 ],
 "metadata": {
  "kernelspec": {
   "display_name": "Python 3 (ipykernel)",
   "language": "python",
   "name": "python3"
  },
  "language_info": {
   "codemirror_mode": {
    "name": "ipython",
    "version": 3
   },
   "file_extension": ".py",
   "mimetype": "text/x-python",
   "name": "python",
   "nbconvert_exporter": "python",
   "pygments_lexer": "ipython3",
   "version": "3.9.12"
  }
 },
 "nbformat": 4,
 "nbformat_minor": 5
}
