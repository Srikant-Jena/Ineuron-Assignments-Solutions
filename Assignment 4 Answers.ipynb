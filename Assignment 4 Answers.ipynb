{
 "cells": [
  {
   "cell_type": "markdown",
   "id": "4a58331b",
   "metadata": {},
   "source": [
    "## 1. What exactly is []?\n",
    "### Ans:"
   ]
  },
  {
   "cell_type": "markdown",
   "id": "fc6eca71",
   "metadata": {},
   "source": [
    "The [ ] represents an empty list that contains no values. it is similar to '' which represents an empty string."
   ]
  },
  {
   "cell_type": "markdown",
   "id": "9f1e4906",
   "metadata": {},
   "source": [
    "## 2. In a list of values stored in a variable called spam, how would you assign the value 'hello' as the third value? (Assume [2, 4, 6, 8, 10] are in spam.)\n",
    "### Ans:"
   ]
  },
  {
   "cell_type": "markdown",
   "id": "0d023eed",
   "metadata": {},
   "source": [
    "We can assign the value 'hello' as the third value in the list spam either by using assignment operator i.e. = or by using the .insert() method. But in .insert() method the number of elements in the list will increase by number of elements inserted in the list."
   ]
  },
  {
   "cell_type": "code",
   "execution_count": 1,
   "id": "79bc2a1b",
   "metadata": {},
   "outputs": [
    {
     "name": "stdout",
     "output_type": "stream",
     "text": [
      "[2, 4, 6, 8, 10]\n",
      "[2, 4, 'hello', 8, 10]\n"
     ]
    }
   ],
   "source": [
    "# Using Assignment operator:\n",
    "\n",
    "spam=[2,4,6,8,10]\n",
    "print(spam)\n",
    "spam[2]='hello' \n",
    "print(spam)"
   ]
  },
  {
   "cell_type": "code",
   "execution_count": 2,
   "id": "4c67fb1e",
   "metadata": {},
   "outputs": [
    {
     "name": "stdout",
     "output_type": "stream",
     "text": [
      "[2, 4, 6, 8, 10]\n",
      "[2, 4, 'hello', 6, 8, 10]\n"
     ]
    }
   ],
   "source": [
    "# Using .insert() method\n",
    "\n",
    "spam=[2,4,6,8,10]\n",
    "print(spam)\n",
    "spam.insert(2, 'hello') \n",
    "print(spam)       # Here the totsl number of elements in spam will increase by 1."
   ]
  },
  {
   "cell_type": "markdown",
   "id": "9b95e3c8",
   "metadata": {},
   "source": [
    "# Let's pretend the spam includes the list ['a', 'b', 'c', 'd'] for the next three queries.\n",
    "## 3. What is the value of spam[int(int('3' * 2) / 11)]?\n",
    "### Ans:\n"
   ]
  },
  {
   "cell_type": "markdown",
   "id": "b8928d33",
   "metadata": {},
   "source": [
    "It will be 'd'.\n",
    "\n",
    "(Note: that '3' * 2 is the string '33', which is passed to int() before being divided by 11. This eventually evaluates to 3, and in spam index 3 is equal to d.)"
   ]
  },
  {
   "cell_type": "code",
   "execution_count": 3,
   "id": "e18ec891",
   "metadata": {},
   "outputs": [
    {
     "name": "stdout",
     "output_type": "stream",
     "text": [
      "Result is ->  d\n"
     ]
    }
   ],
   "source": [
    "spam=['a','b','c','d']\n",
    "\n",
    "ans = spam[int(int('3'*2)//11)]\n",
    "\n",
    "print(\"Result is -> \",ans)\n"
   ]
  },
  {
   "cell_type": "markdown",
   "id": "e9de83a1",
   "metadata": {},
   "source": [
    "## 4. What is the value of spam[-1]?\n",
    "## Ans:"
   ]
  },
  {
   "cell_type": "markdown",
   "id": "a801706f",
   "metadata": {},
   "source": [
    "It is again 'd'. As it is the last element in the list, list supports Negative indexing i.e. in case of reverse order as in this case it is the 1st element i.e. -1th element."
   ]
  },
  {
   "cell_type": "code",
   "execution_count": 4,
   "id": "3a7dddfe",
   "metadata": {},
   "outputs": [
    {
     "name": "stdout",
     "output_type": "stream",
     "text": [
      "d\n"
     ]
    }
   ],
   "source": [
    "spam=['a','b','c','d']\n",
    "\n",
    "print(spam[-1])"
   ]
  },
  {
   "cell_type": "markdown",
   "id": "786eca71",
   "metadata": {},
   "source": [
    "## 5. What is the value of spam[:2]?\n",
    "### Ans:"
   ]
  },
  {
   "cell_type": "markdown",
   "id": "a48e923e",
   "metadata": {},
   "source": [
    "Here it will be ['a','b']. Because in list indexing starts from 0 so the 1st element is at the 0th index and here we are slicing the list upto 2nd index so it will return a list containing the 0th and 1st index elements as in slicing the upper limit is excluded."
   ]
  },
  {
   "cell_type": "code",
   "execution_count": 5,
   "id": "2621f946",
   "metadata": {},
   "outputs": [
    {
     "name": "stdout",
     "output_type": "stream",
     "text": [
      "['a', 'b']\n"
     ]
    }
   ],
   "source": [
    "spam=['a','b','c','d']\n",
    "\n",
    "print(spam[:2])"
   ]
  },
  {
   "cell_type": "markdown",
   "id": "65b2d18b",
   "metadata": {},
   "source": [
    "# Let's pretend bacon has the list [3.14, 'cat,' 11, 'cat,' True] for the next three questions.\n",
    "## 6. What is the value of bacon.index('cat')?\n",
    "### Ans:\n"
   ]
  },
  {
   "cell_type": "markdown",
   "id": "332a4572",
   "metadata": {},
   "source": [
    "The value of bacon.index('cat') is 1. (Note: index method returns the index of first occuerence of 'cat')."
   ]
  },
  {
   "cell_type": "code",
   "execution_count": 6,
   "id": "aefe4425",
   "metadata": {},
   "outputs": [
    {
     "name": "stdout",
     "output_type": "stream",
     "text": [
      "Result is -> 1\n"
     ]
    }
   ],
   "source": [
    "bacon=[3.14,'cat',11,'cat',True]\n",
    "print(\"Result is ->\",bacon.index('cat'))"
   ]
  },
  {
   "cell_type": "markdown",
   "id": "dd2d3737",
   "metadata": {},
   "source": [
    "## 7. How does bacon.append(99) change the look of the list value in bacon?\n",
    "### Ans:"
   ]
  },
  {
   "cell_type": "markdown",
   "id": "a8248d68",
   "metadata": {},
   "source": [
    "The .append() method adds new element at the end of the list, so the number of elements in the list get increased by the number of elements appended to the list."
   ]
  },
  {
   "cell_type": "code",
   "execution_count": 7,
   "id": "75ef8eaf",
   "metadata": {},
   "outputs": [
    {
     "name": "stdout",
     "output_type": "stream",
     "text": [
      "[3.14, 'cat', 11, 'cat', True]\n",
      "[3.14, 'cat', 11, 'cat', True, 99]\n"
     ]
    }
   ],
   "source": [
    "print(bacon)     # Original list\n",
    "bacon.append(99) \n",
    "print(bacon)     # appends 99 at the end of the list"
   ]
  },
  {
   "cell_type": "markdown",
   "id": "50d115bc",
   "metadata": {},
   "source": [
    "## 8. How does bacon.remove('cat') change the look of the list in bacon?\n",
    "### Ans:"
   ]
  },
  {
   "cell_type": "markdown",
   "id": "4cd1fa61",
   "metadata": {},
   "source": [
    "The .remove() method removes the first occurence of the element in the list."
   ]
  },
  {
   "cell_type": "code",
   "execution_count": 8,
   "id": "024b55d7",
   "metadata": {},
   "outputs": [
    {
     "name": "stdout",
     "output_type": "stream",
     "text": [
      "[3.14, 'cat', 11, 'cat', True, 99]\n",
      "[3.14, 11, 'cat', True, 99]\n"
     ]
    }
   ],
   "source": [
    "print(bacon)\n",
    "bacon.remove('cat')\n",
    "print(bacon)"
   ]
  },
  {
   "cell_type": "markdown",
   "id": "3e297fcf",
   "metadata": {},
   "source": [
    "## 9. What are the list concatenation and list replication operators?\n",
    "### Ans:"
   ]
  },
  {
   "cell_type": "markdown",
   "id": "072e314e",
   "metadata": {},
   "source": [
    "The operator for list concatenation is +, while the operator for list replication is *."
   ]
  },
  {
   "cell_type": "code",
   "execution_count": 9,
   "id": "ab820b42",
   "metadata": {},
   "outputs": [
    {
     "name": "stdout",
     "output_type": "stream",
     "text": [
      "['AB', 'CD', 'EF', 'GH', 'IJ', 'KL', 'MN']\n",
      "['IJ', 'KL', 'MN', 'IJ', 'KL', 'MN']\n"
     ]
    }
   ],
   "source": [
    "list_1 = ['AB','CD','EF','GH']\n",
    "list_2 = ['IJ','KL','MN']\n",
    "\n",
    "\n",
    "print(list_1 + list_2) # List Concatenation\n",
    "print(list_2 * 2) # List Replication"
   ]
  },
  {
   "cell_type": "markdown",
   "id": "ca8e32ea",
   "metadata": {},
   "source": [
    "## 10. What is difference between the list methods append() and insert()?\n",
    "### Ans:"
   ]
  },
  {
   "cell_type": "markdown",
   "id": "b86b2adc",
   "metadata": {},
   "source": [
    "While append() will add values only to the end of a list, insert() can add values to anywhere(any index) of the list."
   ]
  },
  {
   "cell_type": "code",
   "execution_count": 10,
   "id": "4d1588ef",
   "metadata": {},
   "outputs": [
    {
     "name": "stdout",
     "output_type": "stream",
     "text": [
      "[1, 2, 3, 4, 5]\n",
      "[1, 2, 3, 4, 5, 6]\n",
      "[1, 2, 'Demo', 3, 4, 5, 6]\n"
     ]
    }
   ],
   "source": [
    "lst = [1,2,3,4,5]\n",
    "print(lst)              # Original list\n",
    "lst.append(6)\n",
    "print(lst)              # The new element 6 will add to the list at the end\n",
    "lst.insert(2,'Demo')\n",
    "print(lst)              # The element 'Demo' will be added as the 3rd element(2nd index) of the list"
   ]
  },
  {
   "cell_type": "markdown",
   "id": "0ec07421",
   "metadata": {},
   "source": [
    "## 11. What are the two methods for removing items from a list?\n",
    "### Ans:"
   ]
  },
  {
   "cell_type": "markdown",
   "id": "b9e21444",
   "metadata": {},
   "source": [
    "The clear() and the remove() method are two ways to remove values from a list. While remove() can remove any specific element from the list, the clear() can remove all the elements from the list and make it an empty list.\n",
    "There is another del statement to remove the list itself."
   ]
  },
  {
   "cell_type": "markdown",
   "id": "648c2373",
   "metadata": {},
   "source": [
    "## 12. Describe how list values and string values are identical.\n",
    "### Ans:"
   ]
  },
  {
   "cell_type": "markdown",
   "id": "f70bfb2e",
   "metadata": {},
   "source": [
    "The similarity between Lists and Strings in Python is that both are sequences. The differences between them are that firstly, Lists are mutable but Strings are immutable. Secondly, elements of a list can be of different types whereas a String only contains characters that are all of String type."
   ]
  },
  {
   "cell_type": "markdown",
   "id": "69b409be",
   "metadata": {},
   "source": [
    "## 13. What's the difference between tuples and lists?\n",
    "### Ans:"
   ]
  },
  {
   "cell_type": "markdown",
   "id": "5daf0564",
   "metadata": {},
   "source": [
    "The key difference between the tuples and lists is that while the tuples are immutable objects the lists are mutable. This means that tuples cannot be changed while the lists can be modified. Tuples are more memory efficient than the lists.tuples are represented by using Parentheses: ( ), while lists get represented by Square brackets: [ ]."
   ]
  },
  {
   "cell_type": "markdown",
   "id": "bf365a1e",
   "metadata": {},
   "source": [
    "## 14. How do you type a tuple value that only contains the integer 42?\n",
    "### Ans:"
   ]
  },
  {
   "cell_type": "markdown",
   "id": "2502e872",
   "metadata": {},
   "source": [
    "(42,) (The trailing comma is mandatory. otherwise its considered as an int by python Interpreter)."
   ]
  },
  {
   "cell_type": "code",
   "execution_count": 11,
   "id": "28e8bdae",
   "metadata": {},
   "outputs": [
    {
     "name": "stdout",
     "output_type": "stream",
     "text": [
      "<class 'int'>\n",
      "<class 'tuple'>\n"
     ]
    }
   ],
   "source": [
    "tup1=(42)\n",
    "tup2=(42,)\n",
    "print(type(tup1))\n",
    "print(type(tup2))"
   ]
  },
  {
   "cell_type": "markdown",
   "id": "2244c2eb",
   "metadata": {},
   "source": [
    "## 15. How do you get a list value's tuple form? How do you get a tuple value's list form?\n",
    "### Ans:"
   ]
  },
  {
   "cell_type": "markdown",
   "id": "05968b5d",
   "metadata": {},
   "source": [
    "The tuple() and list() functions respectively are used to convert a list to tuple and vice versa."
   ]
  },
  {
   "cell_type": "code",
   "execution_count": 12,
   "id": "163fbe02",
   "metadata": {},
   "outputs": [
    {
     "name": "stdout",
     "output_type": "stream",
     "text": [
      "[1, 2, 3, 4, 5, 6, 50, 80, 90] <class 'list'>\n",
      "(1, 2, 3, 4, 5, 6, 50, 80, 90) <class 'tuple'>\n",
      "[1, 2, 3, 4, 5, 6, 50, 80, 90] <class 'list'>\n"
     ]
    }
   ],
   "source": [
    "l = [1,2,3,4,5,6,50,80,90]\n",
    "print(l, type(l))\n",
    "\n",
    "t = tuple(l)            # Converting list to a tuple\n",
    "print(t, type(t))\n",
    "\n",
    "l1 = list(t)            # Converting tuple to a list\n",
    "print(l1, type(l1))"
   ]
  },
  {
   "cell_type": "markdown",
   "id": "60d26009",
   "metadata": {},
   "source": [
    "## 16. Variables that \"contain\" list values are not necessarily lists themselves. Instead, what do they contain?\n",
    "### Ans:"
   ]
  },
  {
   "cell_type": "markdown",
   "id": "98f8dfcd",
   "metadata": {},
   "source": [
    "They contain reference to the list values."
   ]
  },
  {
   "cell_type": "markdown",
   "id": "7dad2f3e",
   "metadata": {},
   "source": [
    "## 17. How do you distinguish between copy.copy() and copy.deepcopy()?\n",
    "### Ans:"
   ]
  },
  {
   "cell_type": "markdown",
   "id": "c38e7340",
   "metadata": {},
   "source": [
    "The copy.copy() function will do a shallow copy of a list, while the copy.deepcopy() function will do a deep copy of a list. That is, only copy.deepcopy() will duplicate any lists inside the list."
   ]
  }
 ],
 "metadata": {
  "kernelspec": {
   "display_name": "Python 3 (ipykernel)",
   "language": "python",
   "name": "python3"
  },
  "language_info": {
   "codemirror_mode": {
    "name": "ipython",
    "version": 3
   },
   "file_extension": ".py",
   "mimetype": "text/x-python",
   "name": "python",
   "nbconvert_exporter": "python",
   "pygments_lexer": "ipython3",
   "version": "3.9.12"
  }
 },
 "nbformat": 4,
 "nbformat_minor": 5
}
