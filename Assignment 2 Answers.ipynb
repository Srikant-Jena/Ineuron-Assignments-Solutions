{
 "cells": [
  {
   "cell_type": "markdown",
   "id": "ca79de9a",
   "metadata": {},
   "source": [
    "## 1.What are the two values of the Boolean data type? How do you write them?"
   ]
  },
  {
   "cell_type": "markdown",
   "id": "528e9047",
   "metadata": {},
   "source": [
    "### Ans:\n",
    "\n",
    "\"True\" and \"False\" are two values of the boolen data types.Just We have to use capital 'T' and 'F' in the beginning."
   ]
  },
  {
   "cell_type": "code",
   "execution_count": 3,
   "id": "cc565bda",
   "metadata": {},
   "outputs": [
    {
     "name": "stdout",
     "output_type": "stream",
     "text": [
      "True <class 'bool'>\n",
      "False <class 'bool'>\n"
     ]
    }
   ],
   "source": [
    "x = True\n",
    "y = False\n",
    "print(x,type(x))\n",
    "print(y,type(y))"
   ]
  },
  {
   "cell_type": "markdown",
   "id": "edba85bc",
   "metadata": {},
   "source": [
    "## 2. What are the three different types of Boolean operators? "
   ]
  },
  {
   "cell_type": "markdown",
   "id": "f5d0b241",
   "metadata": {},
   "source": [
    "### Ans:\n",
    "\n",
    "The three different types of Boolean operators are: and, or , not."
   ]
  },
  {
   "cell_type": "code",
   "execution_count": 4,
   "id": "02ac026e",
   "metadata": {},
   "outputs": [
    {
     "name": "stdout",
     "output_type": "stream",
     "text": [
      "True\n",
      "False\n",
      "False\n"
     ]
    }
   ],
   "source": [
    "x = 200\n",
    "y = 500\n",
    "print(x>100 and y>200) # Example of boolean and\n",
    "print(x>300 or y>600)  # Example of boolean or\n",
    "print(not(y>100))      # Example of boolean not"
   ]
  },
  {
   "cell_type": "markdown",
   "id": "491e63b4",
   "metadata": {},
   "source": [
    "## 3. Make a list of each Boolean operator's truth tables (i.e. every possible combination of Boolean values for the operator and what it evaluate )."
   ]
  },
  {
   "cell_type": "markdown",
   "id": "0e08697d",
   "metadata": {},
   "source": [
    "### Ans:\n",
    "\n",
    "Truth table for \"and\" operator : True True  -> True  ||\n",
    "                                 False True -> False ||\n",
    "                                 True False -> False ||\n",
    "                                 False False-> False ||  \n",
    "                             \n",
    "Truth table for \"or\" operator :  True True  -> True  ||\n",
    "                                 False True -> True  ||\n",
    "                                 True False -> True  ||\n",
    "                                 False False-> False ||    \n",
    "                                 \n",
    "Truth table for \"not\" operator : not True-> False    ||\n",
    "                                 not False->True"
   ]
  },
  {
   "cell_type": "markdown",
   "id": "cf23961a",
   "metadata": {},
   "source": [
    "## 4. What are the values of the following expressions?"
   ]
  },
  {
   "cell_type": "markdown",
   "id": "3435a9a8",
   "metadata": {},
   "source": [
    "### Ans:"
   ]
  },
  {
   "cell_type": "code",
   "execution_count": 5,
   "id": "40ab2566",
   "metadata": {},
   "outputs": [
    {
     "data": {
      "text/plain": [
       "False"
      ]
     },
     "execution_count": 5,
     "metadata": {},
     "output_type": "execute_result"
    }
   ],
   "source": [
    "(5 > 4) and (3 == 5)"
   ]
  },
  {
   "cell_type": "code",
   "execution_count": 6,
   "id": "e0cac9ad",
   "metadata": {},
   "outputs": [
    {
     "data": {
      "text/plain": [
       "False"
      ]
     },
     "execution_count": 6,
     "metadata": {},
     "output_type": "execute_result"
    }
   ],
   "source": [
    "not (5 > 4)"
   ]
  },
  {
   "cell_type": "code",
   "execution_count": 7,
   "id": "5ee8d60a",
   "metadata": {},
   "outputs": [
    {
     "data": {
      "text/plain": [
       "True"
      ]
     },
     "execution_count": 7,
     "metadata": {},
     "output_type": "execute_result"
    }
   ],
   "source": [
    "(5 > 4) or (3 == 5)"
   ]
  },
  {
   "cell_type": "code",
   "execution_count": 8,
   "id": "24d8a4b9",
   "metadata": {},
   "outputs": [
    {
     "data": {
      "text/plain": [
       "False"
      ]
     },
     "execution_count": 8,
     "metadata": {},
     "output_type": "execute_result"
    }
   ],
   "source": [
    "not ((5 > 4) or (3 == 5))"
   ]
  },
  {
   "cell_type": "code",
   "execution_count": 9,
   "id": "44dc8b05",
   "metadata": {},
   "outputs": [
    {
     "data": {
      "text/plain": [
       "False"
      ]
     },
     "execution_count": 9,
     "metadata": {},
     "output_type": "execute_result"
    }
   ],
   "source": [
    "(True and True) and (True == False)"
   ]
  },
  {
   "cell_type": "code",
   "execution_count": 10,
   "id": "fdc98281",
   "metadata": {},
   "outputs": [
    {
     "data": {
      "text/plain": [
       "True"
      ]
     },
     "execution_count": 10,
     "metadata": {},
     "output_type": "execute_result"
    }
   ],
   "source": [
    "(not False) or (not True)"
   ]
  },
  {
   "cell_type": "markdown",
   "id": "3c674186",
   "metadata": {},
   "source": [
    "## 5. What are the six comparison operators?"
   ]
  },
  {
   "cell_type": "markdown",
   "id": "4133b2fe",
   "metadata": {},
   "source": [
    "### Ans:\n",
    "\n",
    "The Six comparision operators available in python are:\n",
    "\n",
    "(==) stands for equals to\n",
    "\n",
    "(!=) stands for not equals to\n",
    "\n",
    "(<) stands for less than \n",
    "\n",
    "(>) means  greater than\n",
    "\n",
    "(<=) stands for less than or equal to\n",
    "\n",
    "(=>) stands for greater than or equal to"
   ]
  },
  {
   "cell_type": "markdown",
   "id": "7fd24586",
   "metadata": {},
   "source": [
    "## 6. How do you tell the difference between the equal to and assignment operators?Describe a condition and when you would use one."
   ]
  },
  {
   "cell_type": "markdown",
   "id": "aace5b37",
   "metadata": {},
   "source": [
    "### Ans:\n",
    "\n",
    "\" == \" is the \"equals to\" operator that compares two values and evaluates the result as a Boolean, while \" = \" is the \"assignment operator\" that stores a value in a variable."
   ]
  },
  {
   "cell_type": "code",
   "execution_count": 11,
   "id": "a8c1860e",
   "metadata": {},
   "outputs": [
    {
     "name": "stdout",
     "output_type": "stream",
     "text": [
      "True\n"
     ]
    }
   ],
   "source": [
    "x = 10                                       # Assigning operator that stores  value 10  in a variable 'x'\n",
    "\n",
    "if x == 10:                                  # Comparing values of the varible value of 'x' and 10\n",
    "    print(x==10)                             # Printing the result in Boolean value"
   ]
  },
  {
   "cell_type": "markdown",
   "id": "568d60b6",
   "metadata": {},
   "source": [
    "## 7. Identify the three blocks in this code:"
   ]
  },
  {
   "cell_type": "markdown",
   "id": "caf904ed",
   "metadata": {},
   "source": [
    "spam = 0"
   ]
  },
  {
   "cell_type": "markdown",
   "id": "5e6b2342",
   "metadata": {},
   "source": [
    "if spam == 10:"
   ]
  },
  {
   "cell_type": "markdown",
   "id": "348a4bac",
   "metadata": {},
   "source": [
    "print('eggs')"
   ]
  },
  {
   "cell_type": "markdown",
   "id": "5b9c0767",
   "metadata": {},
   "source": [
    "if spam > 5:"
   ]
  },
  {
   "cell_type": "markdown",
   "id": "5084288f",
   "metadata": {},
   "source": [
    "print('bacon')"
   ]
  },
  {
   "cell_type": "markdown",
   "id": "bf12a315",
   "metadata": {},
   "source": [
    "else:"
   ]
  },
  {
   "cell_type": "markdown",
   "id": "a168369d",
   "metadata": {},
   "source": [
    "print('ham')"
   ]
  },
  {
   "cell_type": "markdown",
   "id": "37b78e78",
   "metadata": {},
   "source": [
    "print('spam')"
   ]
  },
  {
   "cell_type": "markdown",
   "id": "3189afbd",
   "metadata": {},
   "source": [
    "print('spam')"
   ]
  },
  {
   "cell_type": "markdown",
   "id": "3388faa8",
   "metadata": {},
   "source": [
    "### Ans:\n",
    "    \n",
    "In Python, code block refers to the collection of code that is in the same block or have same indentation.\n",
    "\n",
    "Here,\n",
    "\n",
    "The 1st block starts from if spam == 10 and ends where it print 'eggs'.\n",
    "\n",
    "The 2nd block starts from if spam > 5 and ends where it print 'ham'.\n",
    "\n",
    "The 3rd block is for the rest 2 print function."
   ]
  },
  {
   "cell_type": "markdown",
   "id": "0f7a1cd8",
   "metadata": {},
   "source": [
    "## 8. Write code that prints Hello if 1 is stored in spam, prints Howdy if 2 is stored in spam, and prints Greetings! if anything else is stored in spam.\n",
    "\n",
    "### Ans:"
   ]
  },
  {
   "cell_type": "code",
   "execution_count": 14,
   "id": "3236b417",
   "metadata": {},
   "outputs": [
    {
     "name": "stdout",
     "output_type": "stream",
     "text": [
      "Hello\n",
      "Howdy\n",
      "Greetings\n"
     ]
    }
   ],
   "source": [
    "def spam_Code(spam):\n",
    "    if spam == 1:\n",
    "        print('Hello')\n",
    "    elif spam == 2:\n",
    "        print('Howdy')\n",
    "    else:\n",
    "        print('Greetings')\n",
    "        \n",
    "spam_Code(1) \n",
    "spam_Code(2)\n",
    "spam_Code(3)"
   ]
  },
  {
   "cell_type": "markdown",
   "id": "be016abc",
   "metadata": {},
   "source": [
    "## 9.If your programme is stuck in an endless loop, what keys you’ll press?\n",
    "\n",
    "### Ans:"
   ]
  },
  {
   "cell_type": "markdown",
   "id": "641b679d",
   "metadata": {},
   "source": [
    "Press [ Ctrl + C ] to stop a program stuck in an infinite loop."
   ]
  },
  {
   "cell_type": "markdown",
   "id": "037c017b",
   "metadata": {},
   "source": [
    "## 10. How can you tell the difference between break and continue?\n",
    "\n",
    "### Ans:"
   ]
  },
  {
   "cell_type": "markdown",
   "id": "cd9526e8",
   "metadata": {},
   "source": [
    "\"Break\" allows loop termination when some condition is met and the control is transferred to the next statement.\n",
    "\"continue\" allows skipping some part of a loop when some specific condition is met and the control is transferred to the beginning of the loop."
   ]
  },
  {
   "cell_type": "markdown",
   "id": "2ef3edba",
   "metadata": {},
   "source": [
    "## 11. In a for loop, what is the difference between range(10), range(0, 10), and range(0, 10, 1)?\n",
    "### Ans:"
   ]
  },
  {
   "cell_type": "markdown",
   "id": "23e56031",
   "metadata": {},
   "source": [
    "The Differences are as follows:\n",
    "\n",
    "The range(10) calls range from 0 to 9 but it will not include 10.\n",
    "\n",
    "The range (0,10) explicitly tells the loop to start at 0 and ends at 10 excluding 10.\n",
    "\n",
    "The range(0,10,1) explicitly tells the loop to increase the variable by 1 on each iteration starting from 0 upto 9."
   ]
  },
  {
   "cell_type": "markdown",
   "id": "96c16b20",
   "metadata": {},
   "source": [
    "## 12. Write a short program that prints the numbers 1 to 10 using a for loop. Then write an equivalent program that prints the numbers 1 to 10 using a while loop.\n",
    "### Ans:"
   ]
  },
  {
   "cell_type": "code",
   "execution_count": 15,
   "id": "6d74d66d",
   "metadata": {},
   "outputs": [
    {
     "name": "stdout",
     "output_type": "stream",
     "text": [
      "Using For Loop\n",
      "0\n",
      "1\n",
      "2\n",
      "3\n",
      "4\n",
      "5\n",
      "6\n",
      "7\n",
      "8\n",
      "9\n",
      "10\n",
      "\n",
      "\n",
      "Using While Loop\n",
      "1\n",
      "2\n",
      "3\n",
      "4\n",
      "5\n",
      "6\n",
      "7\n",
      "8\n",
      "9\n",
      "10\n"
     ]
    }
   ],
   "source": [
    "print('Using For Loop')\n",
    "for i in range(11):\n",
    "    print(i)\n",
    "    \n",
    "print('\\n')\n",
    "\n",
    "print('Using While Loop') \n",
    "i=1\n",
    "while i<=10:\n",
    "    print(i)\n",
    "    i+=1"
   ]
  },
  {
   "cell_type": "markdown",
   "id": "ff42f7c6",
   "metadata": {},
   "source": [
    "## 13. If you had a function named bacon() inside a module named spam, how would you call it after importing spam?\n",
    "### Ans:"
   ]
  },
  {
   "cell_type": "markdown",
   "id": "f67bb4f6",
   "metadata": {},
   "source": [
    "The function can be called as : spam.bacon()."
   ]
  }
 ],
 "metadata": {
  "kernelspec": {
   "display_name": "Python 3 (ipykernel)",
   "language": "python",
   "name": "python3"
  },
  "language_info": {
   "codemirror_mode": {
    "name": "ipython",
    "version": 3
   },
   "file_extension": ".py",
   "mimetype": "text/x-python",
   "name": "python",
   "nbconvert_exporter": "python",
   "pygments_lexer": "ipython3",
   "version": "3.9.12"
  }
 },
 "nbformat": 4,
 "nbformat_minor": 5
}
