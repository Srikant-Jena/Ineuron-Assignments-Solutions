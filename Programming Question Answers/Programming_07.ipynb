{
 "cells": [
  {
   "cell_type": "markdown",
   "id": "409c47b4",
   "metadata": {},
   "source": [
    "#### 1.\tWrite a Python Program to find sum of array?"
   ]
  },
  {
   "cell_type": "code",
   "execution_count": 1,
   "id": "b30e8ab0",
   "metadata": {},
   "outputs": [
    {
     "name": "stdout",
     "output_type": "stream",
     "text": [
      "Enter the Array: 1,2,3,4,5,6,7,8,9\n",
      "The result of the entered array [1, 2, 3, 4, 5, 6, 7, 8, 9] is: 45\n"
     ]
    }
   ],
   "source": [
    "\n",
    "# Taking user input\n",
    "in_arr = eval(input(\"Enter the Array: \"))\n",
    "\n",
    "# Creating the function\n",
    "def sum_of_array(l):\n",
    "    l = list(l)\n",
    "    result = 0\n",
    "    for i in list(l):\n",
    "        result += i\n",
    "    return result\n",
    "\n",
    "# Calling the function\n",
    "res = sum_of_array(in_arr)\n",
    "print(f\"The result of the entered array {list(in_arr)} is: {res}\")"
   ]
  },
  {
   "cell_type": "markdown",
   "id": "eb979c41",
   "metadata": {},
   "source": [
    "#### 2.\tWrite a Python Program to find largest element in an array?"
   ]
  },
  {
   "cell_type": "code",
   "execution_count": 2,
   "id": "c5603da6",
   "metadata": {},
   "outputs": [
    {
     "name": "stdout",
     "output_type": "stream",
     "text": [
      "Enter the Array: 10,20,90,25,65\n",
      "The largest element of the entered array [10, 20, 90, 25, 65] is: 90\n"
     ]
    }
   ],
   "source": [
    "# Taking user input\n",
    "in_arr = eval(input(\"Enter the Array: \"))\n",
    "\n",
    "# Creating the function\n",
    "def largest_element(l):\n",
    "    l = list(l)\n",
    "    l.sort()\n",
    "    n = l[-1]\n",
    "    return n\n",
    "\n",
    "\n",
    "# Calling the function\n",
    "res = largest_element(in_arr)\n",
    "print(f\"The largest element of the entered array {list(in_arr)} is: {res}\")"
   ]
  },
  {
   "cell_type": "markdown",
   "id": "a837b30f",
   "metadata": {},
   "source": [
    "#### 3.\tWrite a Python Program for array rotation?"
   ]
  },
  {
   "cell_type": "code",
   "execution_count": 3,
   "id": "c4dd4321",
   "metadata": {},
   "outputs": [
    {
     "name": "stdout",
     "output_type": "stream",
     "text": [
      "Enter the Array: 10,20,30,40,50,60\n",
      "The rotated form of the entered array [10, 20, 30, 40, 50, 60] is: [60, 50, 40, 30, 20, 10]\n"
     ]
    }
   ],
   "source": [
    "# Taking user input\n",
    "in_arr = eval(input(\"Enter the Array: \"))\n",
    "\n",
    "# Creating the function\n",
    "def rev_arr(l):\n",
    "    l = list(l)\n",
    "    l.reverse()\n",
    "    return l\n",
    "\n",
    "\n",
    "# Calling the function\n",
    "res = rev_arr(in_arr)\n",
    "print(f\"The rotated form of the entered array {list(in_arr)} is: {res}\")"
   ]
  },
  {
   "cell_type": "markdown",
   "id": "8694108f",
   "metadata": {},
   "source": [
    "#### 4.\tWrite a Python Program to Split the array and add the first part to the end?"
   ]
  },
  {
   "cell_type": "code",
   "execution_count": 4,
   "id": "3a4d2b84",
   "metadata": {},
   "outputs": [
    {
     "name": "stdout",
     "output_type": "stream",
     "text": [
      "6 34 23 56 67 10 8 7 "
     ]
    }
   ],
   "source": [
    "# Creating the array\n",
    "arr = [10, 8, 7, 6, 34, 23, 56, 67]\n",
    "n = len(arr)\n",
    "position = 3\n",
    "\n",
    "# defining the function\n",
    "def splitArr(arr, n, k): \n",
    "    for i in range(0, k): \n",
    "        x = arr[0]\n",
    "        for j in range(0, n-1):\n",
    "            arr[j] = arr[j + 1]\n",
    "            \n",
    "        arr[n-1] = x\n",
    "\n",
    "\n",
    "# Calling the function\n",
    "splitArr(arr, n, position)\n",
    "  \n",
    "for i in range(0, n): \n",
    "    print(arr[i], end = ' ')"
   ]
  },
  {
   "cell_type": "markdown",
   "id": "5a8ff520",
   "metadata": {},
   "source": [
    "#### 5.\tWrite a Python Program to check if given array is Monotonic?"
   ]
  },
  {
   "cell_type": "code",
   "execution_count": 6,
   "id": "8919cb2a",
   "metadata": {},
   "outputs": [
    {
     "name": "stdout",
     "output_type": "stream",
     "text": [
      "Enter the 1st Array: 1,2,3,4,5,6,7,8,9\n",
      "Enter the 2nd Array: 11,21,31,41,51,61,71,81,91\n",
      "Array (1, 2, 3, 4, 5, 6, 7, 8, 9) is Monotonic\n",
      "Array (11, 21, 31, 41, 51, 61, 71, 81, 91) is Monotonic\n"
     ]
    }
   ],
   "source": [
    "# Taking user input\n",
    "in_arr1 = eval(input(\"Enter the 1st Array: \"))\n",
    "in_arr2 = eval(input(\"Enter the 2nd Array: \"))\n",
    "\n",
    "# defining the function\n",
    "def checkMonotonic(in_arr):\n",
    "    if(all(in_arr[i]<=in_arr[i+1] for i in range(len(in_arr)-1)) or all(in_arr[i]>=in_arr[i+1] for i in range(len(in_arr)-1))):\n",
    "        print(f'Array {in_arr} is Monotonic')\n",
    "    else:\n",
    "        print(f'Array {in_arr} is Not Monotonic')\n",
    "\n",
    "# Calling the function\n",
    "checkMonotonic(in_arr1)\n",
    "checkMonotonic(in_arr2)"
   ]
  }
 ],
 "metadata": {
  "kernelspec": {
   "display_name": "Python 3 (ipykernel)",
   "language": "python",
   "name": "python3"
  },
  "language_info": {
   "codemirror_mode": {
    "name": "ipython",
    "version": 3
   },
   "file_extension": ".py",
   "mimetype": "text/x-python",
   "name": "python",
   "nbconvert_exporter": "python",
   "pygments_lexer": "ipython3",
   "version": "3.9.12"
  }
 },
 "nbformat": 4,
 "nbformat_minor": 5
}
