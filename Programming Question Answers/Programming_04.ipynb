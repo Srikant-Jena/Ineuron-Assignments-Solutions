{
 "cells": [
  {
   "cell_type": "markdown",
   "id": "cd91ac13",
   "metadata": {},
   "source": [
    "#### 1.\tWrite a Python Program to Find the Factorial of a Number?"
   ]
  },
  {
   "cell_type": "code",
   "execution_count": 1,
   "id": "067fea4a",
   "metadata": {},
   "outputs": [
    {
     "name": "stdout",
     "output_type": "stream",
     "text": [
      "Enter a number: 9\n",
      "The Factorial of 9 is 362880\n"
     ]
    }
   ],
   "source": [
    "# Taking user input\n",
    "num = int(input('Enter a number: '))\n",
    "\n",
    "# Defining the function using recursive technique\n",
    "def fact(num):\n",
    "    if (num < 1):\n",
    "        return 1\n",
    "    else:\n",
    "        return num*fact(num-1)\n",
    "    \n",
    "\n",
    "# Calling the function\n",
    "value = fact(num)\n",
    "\n",
    "print(f'The Factorial of {num} is {value}')"
   ]
  },
  {
   "cell_type": "markdown",
   "id": "9a9a3d91",
   "metadata": {},
   "source": [
    "#### 2.\tWrite a Python Program to Display the multiplication Table?"
   ]
  },
  {
   "cell_type": "code",
   "execution_count": 2,
   "id": "81e96795",
   "metadata": {},
   "outputs": [
    {
     "name": "stdout",
     "output_type": "stream",
     "text": [
      "Enter the number: 4\n",
      "Enter upto which number multiplication to be done: 20\n",
      "\n",
      "Multiplication table for number 4 upto 20 is: \n",
      "\n",
      "4 X 1 = 4\n",
      "4 X 2 = 8\n",
      "4 X 3 = 12\n",
      "4 X 4 = 16\n",
      "4 X 5 = 20\n",
      "4 X 6 = 24\n",
      "4 X 7 = 28\n",
      "4 X 8 = 32\n",
      "4 X 9 = 36\n",
      "4 X 10 = 40\n",
      "4 X 11 = 44\n",
      "4 X 12 = 48\n",
      "4 X 13 = 52\n",
      "4 X 14 = 56\n",
      "4 X 15 = 60\n",
      "4 X 16 = 64\n",
      "4 X 17 = 68\n",
      "4 X 18 = 72\n",
      "4 X 19 = 76\n",
      "4 X 20 = 80\n"
     ]
    }
   ],
   "source": [
    "# Using Lambda function to print a table upto 10 of a number\n",
    "\n",
    "# Taking user input\n",
    "n = int(input(\"Enter the number: \")) \n",
    "m = int(input(\"Enter upto which number multiplication to be done: \")) \n",
    "\n",
    "# Defining the function\n",
    "def table(n):    \n",
    "    return lambda a:a*n\n",
    "\n",
    " \n",
    "# Calling the function\n",
    "b = table(n)\n",
    "\n",
    "print(f\"\\nMultiplication table for number {n} upto {m} is: \\n\")\n",
    "for i in range(1,m+1):    \n",
    "    print(n,\"X\",i,\"=\",b(i))"
   ]
  },
  {
   "cell_type": "markdown",
   "id": "8bd63fcd",
   "metadata": {},
   "source": [
    "#### 3.\tWrite a Python Program to Print the Fibonacci sequence?"
   ]
  },
  {
   "cell_type": "code",
   "execution_count": 3,
   "id": "b1e9c9db",
   "metadata": {},
   "outputs": [
    {
     "name": "stdout",
     "output_type": "stream",
     "text": [
      "Enter the no of fibonacci sequences you want?: 10\n",
      "\n",
      "Fibonacci series upto 10 terms is: \n",
      "0\n",
      "1\n",
      "1\n",
      "2\n",
      "3\n",
      "5\n",
      "8\n",
      "13\n",
      "21\n",
      "34\n"
     ]
    }
   ],
   "source": [
    "# In case of fibonacci series, next number is the sum of previous two numbers for example 0, 1, 1, 2, 3, 5, 8, 13, 21 etc.\n",
    "\n",
    "# Taking user input\n",
    "nterms = int(input(\"Enter the no of fibonacci sequences you want?: \"))\n",
    "\n",
    "# Defining the function\n",
    "def recur_fibo(n):\n",
    "    if n <= 1:\n",
    "        return n\n",
    "    else:\n",
    "        return(recur_fibo(n-1) + recur_fibo(n-2))\n",
    "    \n",
    "\n",
    "\n",
    "    \n",
    "# calling the function\n",
    "if nterms <= 0:\n",
    "    print(\"Please enter a positive integer.\")\n",
    "else:\n",
    "    print(f\"\\nFibonacci series upto {nterms} terms is: \")\n",
    "    for i in range(nterms):\n",
    "        print(recur_fibo(i))\n",
    "    \n"
   ]
  },
  {
   "cell_type": "markdown",
   "id": "bbb8fb44",
   "metadata": {},
   "source": [
    "#### 4.\tWrite a Python Program to Check Armstrong Number?"
   ]
  },
  {
   "cell_type": "code",
   "execution_count": 4,
   "id": "23c642d8",
   "metadata": {},
   "outputs": [
    {
     "name": "stdout",
     "output_type": "stream",
     "text": [
      "Enter a number: 100\n",
      "100 is a Not Armstrong Number\n",
      "Enter a number: 153\n",
      "153 is a Armstrong Number\n"
     ]
    }
   ],
   "source": [
    "# Armstrong number is a number that is equal to the sum of cubes of its digits. \n",
    "# For example 0, 1, 153, 370, 371 and 407 are the Armstrong numbers.\n",
    "\n",
    "\n",
    "# Defining the function\n",
    "def checkArmstrongNumber():\n",
    "    # Taking user input\n",
    "    in_num = input('Enter a number: ')\n",
    "    sum = 0\n",
    "    for char in range(len(in_num)):\n",
    "        sum = sum + pow(int(in_num[char]),3)\n",
    "    if sum == int(in_num):\n",
    "        print(f'{in_num} is a Armstrong Number')\n",
    "    else:\n",
    "        print(f'{in_num} is a Not Armstrong Number')\n",
    "\n",
    "# Calling the function to check upto 2 instances\n",
    "for x in range(2):\n",
    "    checkArmstrongNumber()"
   ]
  },
  {
   "cell_type": "markdown",
   "id": "014612e5",
   "metadata": {},
   "source": [
    "#### 5.\tWrite a Python Program to Find Armstrong Number in an Interval?"
   ]
  },
  {
   "cell_type": "code",
   "execution_count": 5,
   "id": "45e44a04",
   "metadata": {},
   "outputs": [
    {
     "name": "stdout",
     "output_type": "stream",
     "text": [
      "Enter the Start of the Interval: 0\n",
      "Enter the End of the Interval: 200\n",
      "The Armstrong numbers between 0 and 200 are [0, 1, 153]\n"
     ]
    }
   ],
   "source": [
    "# Defining the function\n",
    "def checkArmstrongNumber(in_num, storage):\n",
    "    sum = 0\n",
    "    for char in range(len(in_num)):\n",
    "        sum = sum + pow(int(in_num[char]),3)\n",
    "    if sum == int(in_num):\n",
    "        storage.append(int(in_num))\n",
    "\n",
    "# Taking user input to set the interval\n",
    "start_interval = int(input('Enter the Start of the Interval: '))\n",
    "end_interval = int(input('Enter the End of the Interval: '))\n",
    "\n",
    "# Creating an empty list to store the armstrong numbers\n",
    "list_of_armstrong = []\n",
    "\n",
    "# if else logic to call the function to print the list contains armstrong numbers\n",
    "if start_interval > end_interval:\n",
    "    print(\"Start Interval Cannot be Greater than End Interval\")\n",
    "else:\n",
    "    for number in range(start_interval,end_interval+1):\n",
    "        checkArmstrongNumber(str(number),list_of_armstrong)\n",
    "    print(f'The Armstrong numbers between {start_interval} and {end_interval} are {list_of_armstrong}')"
   ]
  },
  {
   "cell_type": "markdown",
   "id": "2c349b5a",
   "metadata": {},
   "source": [
    "#### 6.\tWrite a Python Program to Find the Sum of Natural Numbers?"
   ]
  },
  {
   "cell_type": "code",
   "execution_count": 6,
   "id": "bb468651",
   "metadata": {},
   "outputs": [
    {
     "name": "stdout",
     "output_type": "stream",
     "text": [
      "Enter a number: 100\n",
      "Sum of 100 natural numbers is 5050\n"
     ]
    }
   ],
   "source": [
    "# Taking user input    \n",
    "num = int(input('Enter a number: '))\n",
    "\n",
    "# Defining the function\n",
    "def sumOfNaturalNumbers(num):\n",
    "    sum = num*((num+1)/2)\n",
    "    return sum\n",
    "    \n",
    "# calling the function\n",
    "sum = sumOfNaturalNumbers(num)\n",
    "print(f'Sum of {num} natural numbers is {int(sum)}')"
   ]
  }
 ],
 "metadata": {
  "kernelspec": {
   "display_name": "Python 3 (ipykernel)",
   "language": "python",
   "name": "python3"
  },
  "language_info": {
   "codemirror_mode": {
    "name": "ipython",
    "version": 3
   },
   "file_extension": ".py",
   "mimetype": "text/x-python",
   "name": "python",
   "nbconvert_exporter": "python",
   "pygments_lexer": "ipython3",
   "version": "3.9.12"
  }
 },
 "nbformat": 4,
 "nbformat_minor": 5
}
